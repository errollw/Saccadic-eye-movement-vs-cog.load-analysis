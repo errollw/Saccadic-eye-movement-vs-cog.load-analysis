{
 "metadata": {
  "name": "",
  "signature": "sha256:759e7a627e0fce6108ab5af1d0f28ca7180a3715273da0328af4c9025ed47cc6"
 },
 "nbformat": 3,
 "nbformat_minor": 0,
 "worksheets": []
}