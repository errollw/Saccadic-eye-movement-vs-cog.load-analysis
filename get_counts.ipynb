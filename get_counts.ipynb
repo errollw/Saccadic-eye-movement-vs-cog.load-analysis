{
 "metadata": {
  "name": "",
  "signature": "sha256:af237266dacd6ed39193001f8140607d826fc91fb27873950b2931ee5fdbfc20"
 },
 "nbformat": 3,
 "nbformat_minor": 0,
 "worksheets": [
  {
   "cells": [
    {
     "cell_type": "code",
     "collapsed": false,
     "input": [
      "import os, re"
     ],
     "language": "python",
     "metadata": {},
     "outputs": [],
     "prompt_number": 37
    },
    {
     "cell_type": "code",
     "collapsed": false,
     "input": [
      "for fname in os.listdir(\"SAS\"):\n",
      "    \n",
      "    reg_p_id = re.search('pp(\\d\\d)\\.V5', fname.replace(\"-practice\",\"\"))\n",
      "    reg_level = re.search('NG\\.(.*)\\.1', fname)\n",
      "    \n",
      "    print get_counts(os.path.join(\"SAS\", fname)\n",
      "                                                                                                         \n",
      "    print reg_p_id.group(1), reg_level.group(1)"
     ],
     "language": "python",
     "metadata": {},
     "outputs": [
      {
       "ename": "SyntaxError",
       "evalue": "invalid syntax (<ipython-input-91-8adb22d23cdc>, line 8)",
       "output_type": "pyerr",
       "traceback": [
        "\u001b[1;36m  File \u001b[1;32m\"<ipython-input-91-8adb22d23cdc>\"\u001b[1;36m, line \u001b[1;32m8\u001b[0m\n\u001b[1;33m    print reg_p_id.group(1), reg_level.group(1)\u001b[0m\n\u001b[1;37m        ^\u001b[0m\n\u001b[1;31mSyntaxError\u001b[0m\u001b[1;31m:\u001b[0m invalid syntax\n"
       ]
      }
     ],
     "prompt_number": 91
    },
    {
     "cell_type": "markdown",
     "metadata": {},
     "source": [
      "### Possible cases\n",
      "\n",
      "* Case 0: *Go* (green) left - **sac_dir: L**\n",
      "* Case 1: *Go* (green) right - **sac_dir: R**\n",
      "* Case 2: *No-go* (red) left - **sac_dir: N**\n",
      "* Case 3: *No-go* (red) right - **sac_dir: N**\n"
     ]
    },
    {
     "cell_type": "code",
     "collapsed": false,
     "input": [
      "def get_counts(fname):\n",
      "    \n",
      "    # open the SAS file\n",
      "    f = open(fname, 'r')\n",
      "\n",
      "    correct_go_count = 0;        # L for Case0 and R for Case1\n",
      "    correct_nogo_count = 0;      # N for Case2 or Case3\n",
      "    looked_wrong_way_count = 0;  # e.g. L when should have R\n",
      "    false_positives = 0;         # L or R when should have N\n",
      "    misses = 0;                  # N when should have L or R\n",
      "    \n",
      "    # iterate over SAS lines\n",
      "    for line in f.readlines():\n",
      "        line_num, _, case, sac_dir, sac_lat, _, _ = line.split()\n",
      "        case = int(case)\n",
      "\n",
      "        if case == 0 and sac_dir == \"L\" or case == 1 and sac_dir == \"R\":\n",
      "            correct_go_count += 1\n",
      "\n",
      "        if case in [2, 3] and sac_dir == \"N\":\n",
      "            correct_nogo_count += 1\n",
      "\n",
      "        if case == 0 and sac_dir == \"R\" or case == 1 and sac_dir == \"L\":\n",
      "            looked_wrong_way_count += 1\n",
      "\n",
      "        if case in [2, 3] and sac_dir != \"N\":\n",
      "            false_positives += 1\n",
      "\n",
      "        if case in [0, 1] and sac_dir == \"N\":\n",
      "            misses += 1       \n",
      "    \n",
      "    return correct_go_count, correct_nogo_count, looked_wrong_way_count, false_positives, misses"
     ],
     "language": "python",
     "metadata": {},
     "outputs": [],
     "prompt_number": 70
    },
    {
     "cell_type": "code",
     "collapsed": false,
     "input": [],
     "language": "python",
     "metadata": {},
     "outputs": []
    }
   ],
   "metadata": {}
  }
 ]
}